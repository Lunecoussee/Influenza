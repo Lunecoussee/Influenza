{
 "cells": [
  {
   "cell_type": "code",
   "execution_count": 6,
   "id": "8f44ba57",
   "metadata": {},
   "outputs": [],
   "source": [
    "import numpy as np # linear algebra\n",
    "import pandas as pd # data processing"
   ]
  },
  {
   "cell_type": "code",
   "execution_count": 7,
   "id": "a8dbc43b",
   "metadata": {},
   "outputs": [],
   "source": [
    "fluprint_export = pd.read_csv(\"C:/Users/Hanne/OneDrive - UGent/Documenten/1e master/1e semester/Large scale analysis of biomedical data/Practical sessions/fluprint_export.csv\")\n",
    "pd.set_option('display.max_columns', None)\n",
    "pd.set_option('display.max_colwidth', None)\n",
    "pd.set_option('display.width', None)"
   ]
  },
  {
   "cell_type": "code",
   "execution_count": 8,
   "id": "4638b868",
   "metadata": {},
   "outputs": [],
   "source": [
    "# Look at the first 5 rows"
   ]
  },
  {
   "cell_type": "code",
   "execution_count": 9,
   "id": "c23e6836",
   "metadata": {},
   "outputs": [
    {
     "data": {
      "text/html": [
       "<div>\n",
       "<style scoped>\n",
       "    .dataframe tbody tr th:only-of-type {\n",
       "        vertical-align: middle;\n",
       "    }\n",
       "\n",
       "    .dataframe tbody tr th {\n",
       "        vertical-align: top;\n",
       "    }\n",
       "\n",
       "    .dataframe thead th {\n",
       "        text-align: right;\n",
       "    }\n",
       "</style>\n",
       "<table border=\"1\" class=\"dataframe\">\n",
       "  <thead>\n",
       "    <tr style=\"text-align: right;\">\n",
       "      <th></th>\n",
       "      <th>donor_id</th>\n",
       "      <th>study_id</th>\n",
       "      <th>gender</th>\n",
       "      <th>race</th>\n",
       "      <th>visit_id</th>\n",
       "      <th>visit_year</th>\n",
       "      <th>visit_day</th>\n",
       "      <th>visit_type_hai</th>\n",
       "      <th>visit_age</th>\n",
       "      <th>cmv_status</th>\n",
       "      <th>ebv_status</th>\n",
       "      <th>bmi</th>\n",
       "      <th>vaccine</th>\n",
       "      <th>geo_mean</th>\n",
       "      <th>d_geo_mean</th>\n",
       "      <th>vaccine_response</th>\n",
       "      <th>mesurment_id</th>\n",
       "      <th>assay</th>\n",
       "      <th>name</th>\n",
       "      <th>name_formatted</th>\n",
       "      <th>subset</th>\n",
       "      <th>units</th>\n",
       "      <th>data</th>\n",
       "      <th>statin_use</th>\n",
       "      <th>flu_vaccination_history</th>\n",
       "      <th>total_vaccines_received</th>\n",
       "      <th>vaccinated_1yr_prior</th>\n",
       "      <th>vaccine_type_1yr_prior</th>\n",
       "      <th>vaccinated_2yr_prior</th>\n",
       "      <th>vaccine_type_2yr_prior</th>\n",
       "      <th>vaccinated_3yr_prior</th>\n",
       "      <th>vaccine_type_3yr_prior</th>\n",
       "      <th>vaccinated_4yr_prior</th>\n",
       "      <th>vaccine_type_4yr_prior</th>\n",
       "      <th>vaccinated_5yr_prior</th>\n",
       "      <th>vaccine_type_5yr_prior</th>\n",
       "      <th>influenza_infection_history</th>\n",
       "      <th>influenza_hospitalization</th>\n",
       "    </tr>\n",
       "  </thead>\n",
       "  <tbody>\n",
       "    <tr>\n",
       "      <th>0</th>\n",
       "      <td>813</td>\n",
       "      <td>15</td>\n",
       "      <td>Female</td>\n",
       "      <td>Caucasian</td>\n",
       "      <td>2937</td>\n",
       "      <td>2014</td>\n",
       "      <td>0</td>\n",
       "      <td>pre</td>\n",
       "      <td>23.0</td>\n",
       "      <td>0.0</td>\n",
       "      <td>0.0</td>\n",
       "      <td>NaN</td>\n",
       "      <td>4.0</td>\n",
       "      <td>380.55</td>\n",
       "      <td>1.0</td>\n",
       "      <td>0.0</td>\n",
       "      <td>371121</td>\n",
       "      <td>4</td>\n",
       "      <td>B cells</td>\n",
       "      <td>B_cells</td>\n",
       "      <td>CD14-CD33-/CD3-/CD19+CD20+</td>\n",
       "      <td>% of Parent</td>\n",
       "      <td>34.40</td>\n",
       "      <td>0.0</td>\n",
       "      <td>1.0</td>\n",
       "      <td>11.0</td>\n",
       "      <td>1.0</td>\n",
       "      <td>2.0</td>\n",
       "      <td>1.0</td>\n",
       "      <td>2.0</td>\n",
       "      <td>1.0</td>\n",
       "      <td>2.0</td>\n",
       "      <td>1.0</td>\n",
       "      <td>2.0</td>\n",
       "      <td>1.0</td>\n",
       "      <td>2.0</td>\n",
       "      <td>0</td>\n",
       "      <td>0</td>\n",
       "    </tr>\n",
       "    <tr>\n",
       "      <th>1</th>\n",
       "      <td>813</td>\n",
       "      <td>15</td>\n",
       "      <td>Female</td>\n",
       "      <td>Caucasian</td>\n",
       "      <td>2937</td>\n",
       "      <td>2014</td>\n",
       "      <td>0</td>\n",
       "      <td>pre</td>\n",
       "      <td>23.0</td>\n",
       "      <td>0.0</td>\n",
       "      <td>0.0</td>\n",
       "      <td>NaN</td>\n",
       "      <td>4.0</td>\n",
       "      <td>380.55</td>\n",
       "      <td>1.0</td>\n",
       "      <td>0.0</td>\n",
       "      <td>371122</td>\n",
       "      <td>4</td>\n",
       "      <td>basophils</td>\n",
       "      <td>basophils</td>\n",
       "      <td>CD123+HLADR-</td>\n",
       "      <td>% of Parent</td>\n",
       "      <td>1.45</td>\n",
       "      <td>0.0</td>\n",
       "      <td>1.0</td>\n",
       "      <td>11.0</td>\n",
       "      <td>1.0</td>\n",
       "      <td>2.0</td>\n",
       "      <td>1.0</td>\n",
       "      <td>2.0</td>\n",
       "      <td>1.0</td>\n",
       "      <td>2.0</td>\n",
       "      <td>1.0</td>\n",
       "      <td>2.0</td>\n",
       "      <td>1.0</td>\n",
       "      <td>2.0</td>\n",
       "      <td>0</td>\n",
       "      <td>0</td>\n",
       "    </tr>\n",
       "    <tr>\n",
       "      <th>2</th>\n",
       "      <td>813</td>\n",
       "      <td>15</td>\n",
       "      <td>Female</td>\n",
       "      <td>Caucasian</td>\n",
       "      <td>2937</td>\n",
       "      <td>2014</td>\n",
       "      <td>0</td>\n",
       "      <td>pre</td>\n",
       "      <td>23.0</td>\n",
       "      <td>0.0</td>\n",
       "      <td>0.0</td>\n",
       "      <td>NaN</td>\n",
       "      <td>4.0</td>\n",
       "      <td>380.55</td>\n",
       "      <td>1.0</td>\n",
       "      <td>0.0</td>\n",
       "      <td>371123</td>\n",
       "      <td>4</td>\n",
       "      <td>CD16+ monocytes</td>\n",
       "      <td>CD16_pos_monocytes</td>\n",
       "      <td>CD14+CD33+/CD16+</td>\n",
       "      <td>% of Parent</td>\n",
       "      <td>5.85</td>\n",
       "      <td>0.0</td>\n",
       "      <td>1.0</td>\n",
       "      <td>11.0</td>\n",
       "      <td>1.0</td>\n",
       "      <td>2.0</td>\n",
       "      <td>1.0</td>\n",
       "      <td>2.0</td>\n",
       "      <td>1.0</td>\n",
       "      <td>2.0</td>\n",
       "      <td>1.0</td>\n",
       "      <td>2.0</td>\n",
       "      <td>1.0</td>\n",
       "      <td>2.0</td>\n",
       "      <td>0</td>\n",
       "      <td>0</td>\n",
       "    </tr>\n",
       "    <tr>\n",
       "      <th>3</th>\n",
       "      <td>813</td>\n",
       "      <td>15</td>\n",
       "      <td>Female</td>\n",
       "      <td>Caucasian</td>\n",
       "      <td>2937</td>\n",
       "      <td>2014</td>\n",
       "      <td>0</td>\n",
       "      <td>pre</td>\n",
       "      <td>23.0</td>\n",
       "      <td>0.0</td>\n",
       "      <td>0.0</td>\n",
       "      <td>NaN</td>\n",
       "      <td>4.0</td>\n",
       "      <td>380.55</td>\n",
       "      <td>1.0</td>\n",
       "      <td>0.0</td>\n",
       "      <td>371124</td>\n",
       "      <td>4</td>\n",
       "      <td>CD16+CD14+ monocytes</td>\n",
       "      <td>CD16_pos_CD14_pos_monocytes</td>\n",
       "      <td>CD14+CD33+/CD14+CD16+</td>\n",
       "      <td>% of Parent</td>\n",
       "      <td>1.55</td>\n",
       "      <td>0.0</td>\n",
       "      <td>1.0</td>\n",
       "      <td>11.0</td>\n",
       "      <td>1.0</td>\n",
       "      <td>2.0</td>\n",
       "      <td>1.0</td>\n",
       "      <td>2.0</td>\n",
       "      <td>1.0</td>\n",
       "      <td>2.0</td>\n",
       "      <td>1.0</td>\n",
       "      <td>2.0</td>\n",
       "      <td>1.0</td>\n",
       "      <td>2.0</td>\n",
       "      <td>0</td>\n",
       "      <td>0</td>\n",
       "    </tr>\n",
       "    <tr>\n",
       "      <th>4</th>\n",
       "      <td>813</td>\n",
       "      <td>15</td>\n",
       "      <td>Female</td>\n",
       "      <td>Caucasian</td>\n",
       "      <td>2937</td>\n",
       "      <td>2014</td>\n",
       "      <td>0</td>\n",
       "      <td>pre</td>\n",
       "      <td>23.0</td>\n",
       "      <td>0.0</td>\n",
       "      <td>0.0</td>\n",
       "      <td>NaN</td>\n",
       "      <td>4.0</td>\n",
       "      <td>380.55</td>\n",
       "      <td>1.0</td>\n",
       "      <td>0.0</td>\n",
       "      <td>371125</td>\n",
       "      <td>4</td>\n",
       "      <td>CD16+CD14- monocytes</td>\n",
       "      <td>CD16_pos_CD14_neg_monocytes</td>\n",
       "      <td>CD14+CD33+/CD14-CD16+</td>\n",
       "      <td>% of Parent</td>\n",
       "      <td>4.46</td>\n",
       "      <td>0.0</td>\n",
       "      <td>1.0</td>\n",
       "      <td>11.0</td>\n",
       "      <td>1.0</td>\n",
       "      <td>2.0</td>\n",
       "      <td>1.0</td>\n",
       "      <td>2.0</td>\n",
       "      <td>1.0</td>\n",
       "      <td>2.0</td>\n",
       "      <td>1.0</td>\n",
       "      <td>2.0</td>\n",
       "      <td>1.0</td>\n",
       "      <td>2.0</td>\n",
       "      <td>0</td>\n",
       "      <td>0</td>\n",
       "    </tr>\n",
       "  </tbody>\n",
       "</table>\n",
       "</div>"
      ],
      "text/plain": [
       "   donor_id  study_id  gender       race  visit_id  visit_year  visit_day  \\\n",
       "0       813        15  Female  Caucasian      2937        2014          0   \n",
       "1       813        15  Female  Caucasian      2937        2014          0   \n",
       "2       813        15  Female  Caucasian      2937        2014          0   \n",
       "3       813        15  Female  Caucasian      2937        2014          0   \n",
       "4       813        15  Female  Caucasian      2937        2014          0   \n",
       "\n",
       "  visit_type_hai  visit_age  cmv_status  ebv_status  bmi  vaccine  geo_mean  \\\n",
       "0            pre       23.0         0.0         0.0  NaN      4.0    380.55   \n",
       "1            pre       23.0         0.0         0.0  NaN      4.0    380.55   \n",
       "2            pre       23.0         0.0         0.0  NaN      4.0    380.55   \n",
       "3            pre       23.0         0.0         0.0  NaN      4.0    380.55   \n",
       "4            pre       23.0         0.0         0.0  NaN      4.0    380.55   \n",
       "\n",
       "   d_geo_mean  vaccine_response  mesurment_id  assay                  name  \\\n",
       "0         1.0               0.0        371121      4               B cells   \n",
       "1         1.0               0.0        371122      4             basophils   \n",
       "2         1.0               0.0        371123      4       CD16+ monocytes   \n",
       "3         1.0               0.0        371124      4  CD16+CD14+ monocytes   \n",
       "4         1.0               0.0        371125      4  CD16+CD14- monocytes   \n",
       "\n",
       "                name_formatted                      subset        units  \\\n",
       "0                      B_cells  CD14-CD33-/CD3-/CD19+CD20+  % of Parent   \n",
       "1                    basophils                CD123+HLADR-  % of Parent   \n",
       "2           CD16_pos_monocytes            CD14+CD33+/CD16+  % of Parent   \n",
       "3  CD16_pos_CD14_pos_monocytes       CD14+CD33+/CD14+CD16+  % of Parent   \n",
       "4  CD16_pos_CD14_neg_monocytes       CD14+CD33+/CD14-CD16+  % of Parent   \n",
       "\n",
       "    data  statin_use  flu_vaccination_history  total_vaccines_received  \\\n",
       "0  34.40         0.0                      1.0                     11.0   \n",
       "1   1.45         0.0                      1.0                     11.0   \n",
       "2   5.85         0.0                      1.0                     11.0   \n",
       "3   1.55         0.0                      1.0                     11.0   \n",
       "4   4.46         0.0                      1.0                     11.0   \n",
       "\n",
       "   vaccinated_1yr_prior  vaccine_type_1yr_prior  vaccinated_2yr_prior  \\\n",
       "0                   1.0                     2.0                   1.0   \n",
       "1                   1.0                     2.0                   1.0   \n",
       "2                   1.0                     2.0                   1.0   \n",
       "3                   1.0                     2.0                   1.0   \n",
       "4                   1.0                     2.0                   1.0   \n",
       "\n",
       "   vaccine_type_2yr_prior  vaccinated_3yr_prior  vaccine_type_3yr_prior  \\\n",
       "0                     2.0                   1.0                     2.0   \n",
       "1                     2.0                   1.0                     2.0   \n",
       "2                     2.0                   1.0                     2.0   \n",
       "3                     2.0                   1.0                     2.0   \n",
       "4                     2.0                   1.0                     2.0   \n",
       "\n",
       "   vaccinated_4yr_prior  vaccine_type_4yr_prior  vaccinated_5yr_prior  \\\n",
       "0                   1.0                     2.0                   1.0   \n",
       "1                   1.0                     2.0                   1.0   \n",
       "2                   1.0                     2.0                   1.0   \n",
       "3                   1.0                     2.0                   1.0   \n",
       "4                   1.0                     2.0                   1.0   \n",
       "\n",
       "   vaccine_type_5yr_prior  influenza_infection_history  \\\n",
       "0                     2.0                            0   \n",
       "1                     2.0                            0   \n",
       "2                     2.0                            0   \n",
       "3                     2.0                            0   \n",
       "4                     2.0                            0   \n",
       "\n",
       "   influenza_hospitalization  \n",
       "0                          0  \n",
       "1                          0  \n",
       "2                          0  \n",
       "3                          0  \n",
       "4                          0  "
      ]
     },
     "execution_count": 9,
     "metadata": {},
     "output_type": "execute_result"
    }
   ],
   "source": [
    "fluprint_export.head()"
   ]
  },
  {
   "cell_type": "code",
   "execution_count": 10,
   "id": "da9b4c4c",
   "metadata": {},
   "outputs": [],
   "source": [
    "# Make a dataframe that only contains the rows with measurements of cells ('data' = '% of Parent')"
   ]
  },
  {
   "cell_type": "code",
   "execution_count": 11,
   "id": "e711491f",
   "metadata": {},
   "outputs": [],
   "source": [
    "flu_cells = fluprint_export[fluprint_export.units == '% of Parent'] "
   ]
  },
  {
   "cell_type": "code",
   "execution_count": 12,
   "id": "703b011b",
   "metadata": {},
   "outputs": [],
   "source": [
    "# Make the dataframe more compact and remove unnecessary columns"
   ]
  },
  {
   "cell_type": "code",
   "execution_count": 13,
   "id": "e508b4f5",
   "metadata": {},
   "outputs": [
    {
     "data": {
      "text/html": [
       "<div>\n",
       "<style scoped>\n",
       "    .dataframe tbody tr th:only-of-type {\n",
       "        vertical-align: middle;\n",
       "    }\n",
       "\n",
       "    .dataframe tbody tr th {\n",
       "        vertical-align: top;\n",
       "    }\n",
       "\n",
       "    .dataframe thead th {\n",
       "        text-align: right;\n",
       "    }\n",
       "</style>\n",
       "<table border=\"1\" class=\"dataframe\">\n",
       "  <thead>\n",
       "    <tr style=\"text-align: right;\">\n",
       "      <th></th>\n",
       "      <th>donor_id</th>\n",
       "      <th>vaccine_response</th>\n",
       "      <th>name_formatted</th>\n",
       "      <th>data</th>\n",
       "    </tr>\n",
       "  </thead>\n",
       "  <tbody>\n",
       "    <tr>\n",
       "      <th>0</th>\n",
       "      <td>813</td>\n",
       "      <td>0.0</td>\n",
       "      <td>B_cells</td>\n",
       "      <td>34.40</td>\n",
       "    </tr>\n",
       "    <tr>\n",
       "      <th>1</th>\n",
       "      <td>813</td>\n",
       "      <td>0.0</td>\n",
       "      <td>basophils</td>\n",
       "      <td>1.45</td>\n",
       "    </tr>\n",
       "    <tr>\n",
       "      <th>2</th>\n",
       "      <td>813</td>\n",
       "      <td>0.0</td>\n",
       "      <td>CD16_pos_monocytes</td>\n",
       "      <td>5.85</td>\n",
       "    </tr>\n",
       "    <tr>\n",
       "      <th>3</th>\n",
       "      <td>813</td>\n",
       "      <td>0.0</td>\n",
       "      <td>CD16_pos_CD14_pos_monocytes</td>\n",
       "      <td>1.55</td>\n",
       "    </tr>\n",
       "    <tr>\n",
       "      <th>4</th>\n",
       "      <td>813</td>\n",
       "      <td>0.0</td>\n",
       "      <td>CD16_pos_CD14_neg_monocytes</td>\n",
       "      <td>4.46</td>\n",
       "    </tr>\n",
       "  </tbody>\n",
       "</table>\n",
       "</div>"
      ],
      "text/plain": [
       "   donor_id  vaccine_response               name_formatted   data\n",
       "0       813               0.0                      B_cells  34.40\n",
       "1       813               0.0                    basophils   1.45\n",
       "2       813               0.0           CD16_pos_monocytes   5.85\n",
       "3       813               0.0  CD16_pos_CD14_pos_monocytes   1.55\n",
       "4       813               0.0  CD16_pos_CD14_neg_monocytes   4.46"
      ]
     },
     "execution_count": 13,
     "metadata": {},
     "output_type": "execute_result"
    }
   ],
   "source": [
    "# Combine the indices of the columns to drop\n",
    "columns_to_drop = list(range(1, 15)) + list(range(16, 19)) + list(range(20,22)) + list(range(23, len(fluprint_export.columns)))\n",
    "\n",
    "# Drop the unnecessary columns\n",
    "flu_cells_comp = flu_cells.drop(fluprint_export.columns[columns_to_drop], axis=1)\n",
    "flu_cells_comp.head()"
   ]
  },
  {
   "cell_type": "code",
   "execution_count": 14,
   "id": "386efb94",
   "metadata": {},
   "outputs": [],
   "source": [
    "# Remove the rows with missing values for 'vaccine_response'"
   ]
  },
  {
   "cell_type": "code",
   "execution_count": 15,
   "id": "917f6811",
   "metadata": {},
   "outputs": [
    {
     "name": "stdout",
     "output_type": "stream",
     "text": [
      "        donor_id  vaccine_response                   name_formatted   data\n",
      "0            813               0.0                          B_cells  34.40\n",
      "1            813               0.0                        basophils   1.45\n",
      "2            813               0.0               CD16_pos_monocytes   5.85\n",
      "3            813               0.0      CD16_pos_CD14_pos_monocytes   1.55\n",
      "4            813               0.0      CD16_pos_CD14_neg_monocytes   4.46\n",
      "...          ...               ...                              ...    ...\n",
      "155845         3               0.0  Th2_non_neg_TFH_CD8_pos_T_cells   9.71\n",
      "155846         3               0.0          Th2_TFH_CD4_pos_T_cells  34.90\n",
      "155847         3               0.0          Th2_TFH_CD8_pos_T_cells   1.84\n",
      "155848         3               0.0             transitional_B_cells   6.51\n",
      "155849         3               0.0                            Tregs   3.01\n",
      "\n",
      "[25313 rows x 4 columns]\n"
     ]
    }
   ],
   "source": [
    "flu_cells_clean = flu_cells_comp.dropna(subset=['vaccine_response'])\n",
    "print(flu_cells_clean)"
   ]
  },
  {
   "cell_type": "code",
   "execution_count": 16,
   "id": "62549671",
   "metadata": {},
   "outputs": [],
   "source": [
    "# Find duplicates of 'name_formatted' for one 'donor_id' and remove them so we can pivote the dataframe"
   ]
  },
  {
   "cell_type": "code",
   "execution_count": 17,
   "id": "5fca80ad",
   "metadata": {
    "scrolled": false
   },
   "outputs": [
    {
     "name": "stdout",
     "output_type": "stream",
     "text": [
      "       donor_id  vaccine_response       name_formatted  data\n",
      "88836       325               0.0              B_cells  40.4\n",
      "88837       325               0.0              B_cells  58.3\n",
      "88838       325               0.0              B_cells  49.6\n",
      "88847       325               0.0  CD3_neg_lymphocytes  15.2\n",
      "88848       325               0.0  CD3_neg_lymphocytes  20.9\n",
      "...         ...               ...                  ...   ...\n",
      "98141       263               0.0              T_cells  83.9\n",
      "98142       263               0.0              T_cells  80.8\n",
      "98143       263               0.0              T_cells  82.4\n",
      "98144       263               0.0              T_cells  82.5\n",
      "98145       263               0.0              T_cells  82.1\n",
      "\n",
      "[780 rows x 4 columns]\n",
      "        donor_id  vaccine_response                   name_formatted   data\n",
      "0            813               0.0                          B_cells  34.40\n",
      "1            813               0.0                        basophils   1.45\n",
      "2            813               0.0               CD16_pos_monocytes   5.85\n",
      "3            813               0.0      CD16_pos_CD14_pos_monocytes   1.55\n",
      "4            813               0.0      CD16_pos_CD14_neg_monocytes   4.46\n",
      "...          ...               ...                              ...    ...\n",
      "155845         3               0.0  Th2_non_neg_TFH_CD8_pos_T_cells   9.71\n",
      "155846         3               0.0          Th2_TFH_CD4_pos_T_cells  34.90\n",
      "155847         3               0.0          Th2_TFH_CD8_pos_T_cells   1.84\n",
      "155848         3               0.0             transitional_B_cells   6.51\n",
      "155849         3               0.0                            Tregs   3.01\n",
      "\n",
      "[24741 rows x 4 columns]\n"
     ]
    }
   ],
   "source": [
    "# Find duplicates\n",
    "duplicates = flu_cells_clean[flu_cells_clean.duplicated(subset=['donor_id', 'name_formatted'], keep=False)]\n",
    "print(duplicates)\n",
    "\n",
    "# Remove the duplicates\n",
    "flu_cells_clean_unique = flu_cells_clean.drop_duplicates(subset=['donor_id', 'name_formatted'])\n",
    "print(flu_cells_clean_unique)"
   ]
  },
  {
   "cell_type": "code",
   "execution_count": 18,
   "id": "6af528dd",
   "metadata": {},
   "outputs": [],
   "source": [
    "# Pivot the dataframe to create a new dataframe where each 'donor_id' is a row\n",
    "# Each cell in 'name_formatted' becomes a column, and the corresponding 'data' values fill the cells"
   ]
  },
  {
   "cell_type": "code",
   "execution_count": 19,
   "id": "2c1d4204",
   "metadata": {
    "scrolled": true
   },
   "outputs": [],
   "source": [
    "pivoted_df = flu_cells_clean_unique.pivot(index='donor_id', columns='name_formatted', values='data')"
   ]
  },
  {
   "cell_type": "code",
   "execution_count": 20,
   "id": "ba56fb2a",
   "metadata": {},
   "outputs": [],
   "source": [
    "# Make a dataframe with 'donor_id' and 'vaccine_response'"
   ]
  },
  {
   "cell_type": "code",
   "execution_count": 21,
   "id": "3a4ffbf6",
   "metadata": {},
   "outputs": [],
   "source": [
    "vaccine_response = fluprint_export.drop_duplicates(subset=['donor_id', 'vaccine_response'])[['donor_id', 'vaccine_response']]\n",
    "vaccine_response = vaccine_response.dropna()"
   ]
  },
  {
   "cell_type": "code",
   "execution_count": 22,
   "id": "6d08f729",
   "metadata": {},
   "outputs": [],
   "source": [
    "# Merge 'pivoted_df' with 'vaccine_response' by the 'donor_id'"
   ]
  },
  {
   "cell_type": "code",
   "execution_count": 23,
   "id": "cff65e51",
   "metadata": {},
   "outputs": [],
   "source": [
    "merged = vaccine_response.merge(pivoted_df, on='donor_id')"
   ]
  },
  {
   "cell_type": "code",
   "execution_count": 24,
   "id": "a0d84b81",
   "metadata": {},
   "outputs": [],
   "source": [
    "# Look at the correlation between the data of the other features and the 'vaccine_response'"
   ]
  },
  {
   "cell_type": "code",
   "execution_count": 25,
   "id": "1fef9973",
   "metadata": {},
   "outputs": [
    {
     "name": "stdout",
     "output_type": "stream",
     "text": [
      "vaccine_response             1.000000\n",
      "IL_neg_21_CD4_pos_T_cells    0.520964\n",
      "Unstim_CD4_pos_T_cells       0.518184\n",
      "PMA_Iono_CD4_pos_T_cells     0.516098\n",
      "LPS_CD4_pos_T_cells          0.506828\n",
      "Name: vaccine_response, dtype: float64\n",
      "IL_neg_7_CD8_pos_T_cells    -0.593862\n",
      "IL_neg_21_CD8_pos_T_cells   -0.594105\n",
      "PMA_Iono_CD8_pos_T_cells    -0.594758\n",
      "LPS_CD8_pos_T_cells         -0.599727\n",
      "Unstim_CD8_pos_T_cells      -0.605982\n",
      "Name: vaccine_response, dtype: float64\n"
     ]
    }
   ],
   "source": [
    "# Calculate pairwise correlation coefficients between numerical columns in 'merged'\n",
    "correlation = merged.corr()\n",
    "\n",
    "# Sort correlations of 'vaccine_response' with other features\n",
    "corr_response = correlation['vaccine_response'].sort_values(ascending=False)\n",
    "\n",
    "# Display the most positively and negatively correlated features\n",
    "print(corr_response.head())\n",
    "print(corr_response.tail())\n"
   ]
  },
  {
   "cell_type": "code",
   "execution_count": 26,
   "id": "d0a05403",
   "metadata": {},
   "outputs": [],
   "source": [
    "# Look how many donors have data for every cell type"
   ]
  },
  {
   "cell_type": "code",
   "execution_count": 30,
   "id": "1a9ad82f",
   "metadata": {},
   "outputs": [
    {
     "name": "stdout",
     "output_type": "stream",
     "text": [
      "donor_id                      304\n",
      "vaccine_response              304\n",
      "B_cells                       294\n",
      "CD161_neg_CD45RA_pos_Tregs    294\n",
      "CD161_pos_CD45RA_neg_Tregs    294\n",
      "                             ... \n",
      "naive_CD4_pos_T_cells         294\n",
      "naive_CD8_pos_T_cells         294\n",
      "pDCs                          164\n",
      "plasmablasts                  294\n",
      "transitional_B_cells          294\n",
      "Length: 413, dtype: int64\n"
     ]
    }
   ],
   "source": [
    "non_na_counts = merged.notna().sum()\n",
    "print(non_na_counts)"
   ]
  },
  {
   "cell_type": "code",
   "execution_count": 31,
   "id": "12f9f9a1",
   "metadata": {},
   "outputs": [],
   "source": [
    "# Combine 'corr_response' and 'non_na_counts' into a single dataframe"
   ]
  },
  {
   "cell_type": "code",
   "execution_count": 32,
   "id": "bc76ac67",
   "metadata": {},
   "outputs": [
    {
     "name": "stdout",
     "output_type": "stream",
     "text": [
      "                           Corr_response  Non_Na_Counts\n",
      "vaccine_response                1.000000            304\n",
      "IL_neg_21_CD4_pos_T_cells       0.520964             18\n",
      "Unstim_CD4_pos_T_cells          0.518184             18\n",
      "PMA_Iono_CD4_pos_T_cells        0.516098             18\n",
      "LPS_CD4_pos_T_cells             0.506828             18\n",
      "...                                  ...            ...\n",
      "IL_neg_7_CD8_pos_T_cells       -0.593862             18\n",
      "IL_neg_21_CD8_pos_T_cells      -0.594105             18\n",
      "PMA_Iono_CD8_pos_T_cells       -0.594758             18\n",
      "LPS_CD8_pos_T_cells            -0.599727             18\n",
      "Unstim_CD8_pos_T_cells         -0.605982             18\n",
      "\n",
      "[413 rows x 2 columns]\n"
     ]
    }
   ],
   "source": [
    "combined_df = pd.DataFrame({\n",
    "    'Corr_response': corr_response,\n",
    "    'Non_Na_Counts': non_na_counts\n",
    "})\n",
    "\n",
    "# Sort by correlation values \n",
    "combined_df = combined_df.sort_values(by='Corr_response', ascending=False)\n",
    "print(combined_df)"
   ]
  },
  {
   "cell_type": "code",
   "execution_count": 33,
   "id": "67c6bd3a",
   "metadata": {},
   "outputs": [],
   "source": [
    "# Filter the features with more than 290 measured values and with a absolute correlation to 'vaccine_response' of more than 0.1 \n",
    "# Or filter the feature with 304 values to make sure that 'donor_id' is kept in the dataframe"
   ]
  },
  {
   "cell_type": "code",
   "execution_count": 35,
   "id": "0c3172e6",
   "metadata": {
    "scrolled": false
   },
   "outputs": [
    {
     "name": "stdout",
     "output_type": "stream",
     "text": [
      "                                    Corr_response  Non_Na_Counts\n",
      "vaccine_response                         1.000000            304\n",
      "CD161_pos_CD45RA_pos_Tregs               0.263836            294\n",
      "CD85j_pos_CD4_pos_T_cells                0.174133            294\n",
      "T_cells                                  0.139733            294\n",
      "CD161_pos_CD45RA_neg_Tregs               0.120417            294\n",
      "donor_id                                -0.015260            304\n",
      "central_memory_CD8_pos_T_cells          -0.101233            294\n",
      "plasmablasts                            -0.106176            294\n",
      "HLADR_pos_CD38_pos_CD8_pos_T_cells      -0.109893            294\n",
      "HLADR_neg_CD38_pos_CD8_pos_T_cells      -0.117639            293\n",
      "HLADR_pos_CD38_pos_CD4_pos_T_cells      -0.131227            294\n",
      "HLADR_neg_CD38_pos_CD4_pos_T_cells      -0.141555            294\n"
     ]
    }
   ],
   "source": [
    "# Apply the filter conditions \n",
    "filtered_df = combined_df[((combined_df['Non_Na_Counts'] > 290) & (combined_df['Corr_response'].abs() > 0.1)) | (combined_df['Non_Na_Counts'] == 304)] \n",
    "\n",
    "# Display all rows of the DataFrame \n",
    "with pd.option_context('display.max_rows', None): \n",
    "    print(filtered_df)   "
   ]
  },
  {
   "cell_type": "code",
   "execution_count": 37,
   "id": "96cecd01",
   "metadata": {},
   "outputs": [],
   "source": [
    "# Extract names from the index and use them to filter these columns out of the 'merged' dataframe"
   ]
  },
  {
   "cell_type": "code",
   "execution_count": 41,
   "id": "a88ce955",
   "metadata": {
    "scrolled": true
   },
   "outputs": [],
   "source": [
    "# Extract names from the index\n",
    "relevant_cells = filtered_df.index.tolist() \n",
    "\n",
    "# Filter the pivoted dataframe using these names\n",
    "df = merged[relevant_cells] "
   ]
  },
  {
   "cell_type": "code",
   "execution_count": 42,
   "id": "f29425bb",
   "metadata": {},
   "outputs": [],
   "source": [
    "# Determine the distribution of 'vaccine_response' in the dataframe to make sure that there are enough rows for both possible outcomes"
   ]
  },
  {
   "cell_type": "code",
   "execution_count": 55,
   "id": "a6873dc9",
   "metadata": {},
   "outputs": [
    {
     "data": {
      "text/plain": [
       "vaccine_response\n",
       "0.0    215\n",
       "1.0     89\n",
       "Name: count, dtype: int64"
      ]
     },
     "execution_count": 55,
     "metadata": {},
     "output_type": "execute_result"
    }
   ],
   "source": [
    "df['vaccine_response'].value_counts()"
   ]
  },
  {
   "cell_type": "code",
   "execution_count": 57,
   "id": "f74975e5",
   "metadata": {},
   "outputs": [],
   "source": [
    "# Set 'vaccine_response' as the prediction target"
   ]
  },
  {
   "cell_type": "code",
   "execution_count": 46,
   "id": "228a2f55",
   "metadata": {},
   "outputs": [],
   "source": [
    "y = df.vaccine_response"
   ]
  },
  {
   "cell_type": "code",
   "execution_count": 47,
   "id": "33a8b73f",
   "metadata": {},
   "outputs": [],
   "source": [
    "# Print the columns names of 'df'"
   ]
  },
  {
   "cell_type": "code",
   "execution_count": 48,
   "id": "5656d8c1",
   "metadata": {},
   "outputs": [
    {
     "name": "stdout",
     "output_type": "stream",
     "text": [
      "Index(['vaccine_response', 'CD161_pos_CD45RA_pos_Tregs',\n",
      "       'CD85j_pos_CD4_pos_T_cells', 'T_cells', 'CD161_pos_CD45RA_neg_Tregs',\n",
      "       'donor_id', 'central_memory_CD8_pos_T_cells', 'plasmablasts',\n",
      "       'HLADR_pos_CD38_pos_CD8_pos_T_cells',\n",
      "       'HLADR_neg_CD38_pos_CD8_pos_T_cells',\n",
      "       'HLADR_pos_CD38_pos_CD4_pos_T_cells',\n",
      "       'HLADR_neg_CD38_pos_CD4_pos_T_cells'],\n",
      "      dtype='object')\n"
     ]
    }
   ],
   "source": [
    "print(df.columns)"
   ]
  },
  {
   "cell_type": "code",
   "execution_count": null,
   "id": "e573bbd3",
   "metadata": {},
   "outputs": [],
   "source": [
    "# Keep the column names with cell information and set them as the predictive features"
   ]
  },
  {
   "cell_type": "code",
   "execution_count": 50,
   "id": "dabd9989",
   "metadata": {},
   "outputs": [],
   "source": [
    "flu_features = ['CD161_pos_CD45RA_pos_Tregs',\n",
    "       'CD85j_pos_CD4_pos_T_cells', 'T_cells', 'CD161_pos_CD45RA_neg_Tregs', 'central_memory_CD8_pos_T_cells', 'plasmablasts',\n",
    "       'HLADR_pos_CD38_pos_CD8_pos_T_cells',\n",
    "       'HLADR_neg_CD38_pos_CD8_pos_T_cells',\n",
    "       'HLADR_pos_CD38_pos_CD4_pos_T_cells',\n",
    "       'HLADR_neg_CD38_pos_CD4_pos_T_cells']\n",
    "X = df[flu_features]"
   ]
  },
  {
   "cell_type": "code",
   "execution_count": null,
   "id": "6cd4b1b1",
   "metadata": {},
   "outputs": [],
   "source": [
    "# Split the dataframe in a train and test dataset en use 'DecisionTreeRegressor' as model\n",
    "# Also look at the 'mean_absolute_error' to determine the mean deviation from the true 'vaccine_response'"
   ]
  },
  {
   "cell_type": "code",
   "execution_count": 58,
   "id": "13a73ff7",
   "metadata": {},
   "outputs": [
    {
     "name": "stdout",
     "output_type": "stream",
     "text": [
      "0.631578947368421\n"
     ]
    }
   ],
   "source": [
    "from sklearn.model_selection import train_test_split\n",
    "from sklearn.tree import DecisionTreeClassifier\n",
    "from sklearn.metrics import accuracy_score\n",
    "\n",
    "# Split the data into training and validation datasets\n",
    "train_X, val_X, train_y, val_y = train_test_split(X, y, random_state=0)\n",
    "\n",
    "# Define and train the 'DecisionTreeClassifier'\n",
    "flu_model = DecisionTreeClassifier(random_state=0)\n",
    "flu_model.fit(train_X, train_y)\n",
    "\n",
    "# Make predictions on the validation dataset\n",
    "val_predictions = flu_model.predict(val_X)\n",
    "\n",
    "# Evaluate the model using accuracy score\n",
    "print(accuracy_score(val_y, val_predictions))"
   ]
  },
  {
   "cell_type": "code",
   "execution_count": 59,
   "id": "29742d3e",
   "metadata": {},
   "outputs": [
    {
     "name": "stdout",
     "output_type": "stream",
     "text": [
      "[1. 0. 0. 0. 0.]\n",
      "66     1.0\n",
      "156    1.0\n",
      "247    0.0\n",
      "267    0.0\n",
      "145    0.0\n",
      "Name: vaccine_response, dtype: float64\n"
     ]
    }
   ],
   "source": [
    "# print the top few validation predictions\n",
    "print(flu_model.predict(val_X.head()))\n",
    "# print the top few actual vaccine responses from validation data\n",
    "print(val_y.head())"
   ]
  }
 ],
 "metadata": {
  "kernelspec": {
   "display_name": "Python 3 (ipykernel)",
   "language": "python",
   "name": "python3"
  },
  "language_info": {
   "codemirror_mode": {
    "name": "ipython",
    "version": 3
   },
   "file_extension": ".py",
   "mimetype": "text/x-python",
   "name": "python",
   "nbconvert_exporter": "python",
   "pygments_lexer": "ipython3",
   "version": "3.11.5"
  }
 },
 "nbformat": 4,
 "nbformat_minor": 5
}
